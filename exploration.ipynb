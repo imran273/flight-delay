{
 "cells": [
  {
   "cell_type": "markdown",
   "metadata": {
    "deletable": true,
    "editable": true
   },
   "source": [
    "# Predicting Flight Delays\n",
    "\n",
    "This project was inspired by [this hortonworks project](http://hortonworks.com/blog/data-science-apacheh-hadoop-predicting-airline-delays/)\n",
    "\n",
    "This notebook explores a subset of the data, and then goes into the actual predicting with sklearn. Apache Spark, and it's MlLib libarary, will be used to predict with the whole dataset."
   ]
  },
  {
   "cell_type": "code",
   "execution_count": 15,
   "metadata": {
    "collapsed": true,
    "deletable": true,
    "editable": true
   },
   "outputs": [],
   "source": [
    "import warnings\n",
    "warnings.filterwarnings('ignore')\n",
    "\n",
    "import glob\n",
    "import os\n",
    "import sys\n",
    "import numpy as np\n",
    "import pandas as pd\n",
    "import matplotlib.pyplot as plt\n",
    "import os\n",
    "\n",
    "from datetime import date\n",
    "from sklearn import linear_model, cross_validation, metrics, svm\n",
    "from sklearn.metrics import confusion_matrix, precision_recall_fscore_support, accuracy_score\n",
    "from sklearn.ensemble import RandomForestClassifier\n",
    "from sklearn.preprocessing import StandardScaler\n",
    "\n",
    "%matplotlib inline\n",
    "\n",
    "# Flag variables to run certain cells\n",
    "DO_GRAPHS = True\n",
    "DO_ITER_1 = True # skip first iteration, takes awhile to train & fit\n",
    "DO_ITER_2 = False"
   ]
  },
  {
   "cell_type": "markdown",
   "metadata": {
    "deletable": true,
    "editable": true
   },
   "source": [
    "Read the monthly CSVs into a DataFrame"
   ]
  },
  {
   "cell_type": "code",
   "execution_count": 2,
   "metadata": {
    "collapsed": false,
    "deletable": true,
    "editable": true
   },
   "outputs": [],
   "source": [
    "#path = '/home/william/Projects/flight-delay/data'\n",
    "#allFiles = glob.glob(os.path.join(path, '2016*.csv'))\n",
    "# sort by date\n",
    "#allFiles.sort(key=lambda path: int(int(path.split('/')[-1][:-4])))\n",
    "# read in using generator expr for all CSV files\n",
    "#flights2016 = pd.concat( (pd.read_csv(f, usecols=range(29)) for f in allFiles) )\n",
    "base = '/home/william/Projects/flight-delay/data/merged'\n",
    "flights = pd.read_csv(os.path.join(base, '2015.csv'), usecols=range(29))\n",
    "flights = pd.concat([flights, \n",
    "                    pd.read_csv(os.path.join(base, '2016.csv'), usecols=range(29), nrows=2500000)])"
   ]
  },
  {
   "cell_type": "markdown",
   "metadata": {
    "deletable": true,
    "editable": true
   },
   "source": [
    "Drop excess columns, rename others"
   ]
  },
  {
   "cell_type": "code",
   "execution_count": 3,
   "metadata": {
    "collapsed": false,
    "deletable": true,
    "editable": true
   },
   "outputs": [],
   "source": [
    "renamed_cols = [\n",
    "        'Year', 'Month', 'Day', 'Dow','CarrierId', 'Carrier', 'TailNum', 'Origin', \n",
    "        'Dest', 'CRSDepTime', 'DepTime', 'DepDelay', 'TaxiOut', 'TaxiIn', 'CRSArrTime', \n",
    "        'ArrTime', 'ArrDelay', 'Cancelled', 'CancellationCode', 'Diverted', 'CRSElapsedTime', \n",
    "        'ActualElapsedTime', 'AirTime', 'Distance', 'CarrierDelay', 'WeatherDelay', \n",
    "        'NASDelay', 'SecurityDelay', 'LateAircraftDelay'\n",
    "]\n",
    "flights.columns = renamed_cols\n",
    "to_keep = ['Year', 'Month', 'Day', 'Dow', 'Carrier', 'Origin', 'Dest', \n",
    "           'DepDelay', 'CRSDepTime', 'Distance']\n",
    "    \n",
    "to_drop = list( set(renamed_cols) - set(to_keep))\n",
    "\n",
    "flights.drop(to_drop, axis=1, inplace=True)\n",
    "# filter the DF down to only flights originating out of ORD, due to memory\n",
    "flights = flights[ flights['Origin'] == 'ORD' ]\n",
    "flights.dropna(subset=['DepDelay'], inplace=True)\n",
    "# boolean column indicating whether flight was delayed, to certain threshold\n",
    "flights['Delayed'] = flights['DepDelay'] >= 15\n",
    "# reindex after dropping to keep consecuitive indices\n",
    "flights.index = range(len(flights))"
   ]
  },
  {
   "cell_type": "code",
   "execution_count": 4,
   "metadata": {
    "collapsed": false
   },
   "outputs": [
    {
     "name": "stdout",
     "output_type": "stream",
     "text": [
      "Total Flights: 404459\n",
      "Total Delays: 91685\n"
     ]
    }
   ],
   "source": [
    "print('Total Flights:', flights.shape[0])\n",
    "print('Total Delays:', flights['Delayed'].sum())"
   ]
  },
  {
   "cell_type": "markdown",
   "metadata": {
    "deletable": true,
    "editable": true
   },
   "source": [
    "Graph of delays per month"
   ]
  },
  {
   "cell_type": "code",
   "execution_count": 5,
   "metadata": {
    "collapsed": false,
    "deletable": true,
    "editable": true
   },
   "outputs": [
    {
     "data": {
      "image/png": "[encoded data removed]",
      "text/plain": [
       "<matplotlib.figure.Figure at 0x7f78123b72b0>"
      ]
     },
     "metadata": {},
     "output_type": "display_data"
    }
   ],
   "source": [
    "if DO_GRAPHS:\n",
    "    # Compute average number of delayed flights per month\n",
    "    flights['Delayed'] = flights['DepDelay'] >= 15\n",
    "    grouped = flights[['Delayed', 'Month']].groupby('Month').mean()\n",
    "\n",
    "    # plot average delays by month\n",
    "    grouped.plot(kind='bar')\n",
    "    plt.title('Months with the most delays')"
   ]
  },
  {
   "cell_type": "code",
   "execution_count": 6,
   "metadata": {
    "collapsed": false,
    "deletable": true,
    "editable": true
   },
   "outputs": [
    {
     "data": {
      "image/png": "[encoded data removed]",
      "text/plain": [
       "<matplotlib.figure.Figure at 0x7f782f669a20>"
      ]
     },
     "metadata": {},
     "output_type": "display_data"
    }
   ],
   "source": [
    "if DO_GRAPHS:\n",
    "    flights['Hour'] = flights['CRSDepTime'].map(lambda x: x // 100)\n",
    "    flights.drop('CRSDepTime', axis=1, inplace=True)\n",
    "    grouped = flights[['Delayed', 'Hour']].groupby('Hour').mean()\n",
    "\n",
    "    # plot average delays by hour of day\n",
    "    grouped.plot(kind='bar')\n",
    "    plt.title('Hours of the day with most delays')"
   ]
  },
  {
   "cell_type": "code",
   "execution_count": 7,
   "metadata": {
    "collapsed": false,
    "deletable": true,
    "editable": true,
    "scrolled": true
   },
   "outputs": [
    {
     "data": {
      "image/png": "[encoded data removed]",
      "text/plain": [
       "<matplotlib.figure.Figure at 0x7f78128781d0>"
      ]
     },
     "metadata": {},
     "output_type": "display_data"
    }
   ],
   "source": [
    "if DO_GRAPHS:\n",
    "    grped1 = flights[ ['Delayed', 'Carrier'] ].groupby('Carrier').filter(lambda x: len(x) > 10)\n",
    "    grped1 = grped1.groupby('Carrier').mean()\n",
    "    grped1 = grped1.sort(['Delayed'], ascending=False)\n",
    "\n",
    "    grped1[:15].plot(kind='bar')"
   ]
  },
  {
   "cell_type": "markdown",
   "metadata": {
    "deletable": true,
    "editable": true
   },
   "source": [
    "New Year's Day, MLK Day, Easter, Memorial day, July 4th, Labor Day,\n",
    "Columbus Day, Veterans Day, Thanksgiving, Christmas"
   ]
  },
  {
   "cell_type": "code",
   "execution_count": 8,
   "metadata": {
    "collapsed": false,
    "deletable": true,
    "editable": true
   },
   "outputs": [],
   "source": [
    "if DO_GRAPHS:\n",
    "    %reset_selective -f grped1\n",
    "    %reset_selective -f grped2\n",
    "    %reset_selective -f carrier\n",
    "    %reset_selective -f grouped\n",
    "    %reset_selective -f df"
   ]
  },
  {
   "cell_type": "markdown",
   "metadata": {
    "deletable": true,
    "editable": true
   },
   "source": [
    "## Building a feature matrix\n"
   ]
  },
  {
   "cell_type": "code",
   "execution_count": 9,
   "metadata": {
    "collapsed": false,
    "deletable": true,
    "editable": true
   },
   "outputs": [],
   "source": [
    "renamed_cols = ['Year', 'Month', 'Day', 'Dow', 'Carrier', 'Origin', \n",
    "                'Dest', 'Delay', 'Distance', 'Delayed', 'Hour']\n",
    "flights.columns = renamed_cols\n",
    "# convert the numeric columns from object dtype\n",
    "numeric_cols = ['Year', 'Month', 'Day', 'Dow', 'Delay', 'Hour', 'Distance']\n",
    "for col in numeric_cols:\n",
    "    flights[col] = pd.to_numeric( flights[col] )"
   ]
  },
  {
   "cell_type": "markdown",
   "metadata": {
    "deletable": true,
    "editable": true
   },
   "source": [
    "Creating Nearest holiday lookup table for 2015 and 2016\n",
    "\n",
    "New Year's Day, MLK Day, Easter, Memorial day, July 4th, Labor Day, Veteran's Day, Columbus Day, Veteran's Day, Thanksgiving, Christmas "
   ]
  },
  {
   "cell_type": "code",
   "execution_count": 10,
   "metadata": {
    "collapsed": false,
    "deletable": true,
    "editable": true
   },
   "outputs": [],
   "source": [
    "from datetime import timedelta, date\n",
    "\n",
    "def daterange(start_date, end_date):\n",
    "    for n in range(int ((end_date - start_date).days)):\n",
    "        yield start_date + timedelta(n)\n",
    "        \n",
    "holidays_2015 = [\n",
    "    date(2015, 1, 1), date(2015, 1, 19), date(2015, 4, 5), date(2015, 5, 25),\n",
    "    date(2015, 7, 4), date(2015, 9, 7), date(2015, 10, 12), date(2015, 11, 11),\n",
    "    date(2015, 11, 26), date(2015, 12, 25)\n",
    "]\n",
    "holidays_2016 = [\n",
    "    date(2016, 1, 1), date(2016, 1, 18), date(2016, 3, 27), date(2016, 5, 30),\n",
    "    date(2016, 7, 4),  date(2016, 9, 5), date(2016, 10, 10), date(2016, 11, 11),\n",
    "    date(2016, 11, 24), date(2016, 12, 25)\n",
    "]\n",
    "\n",
    "hday_lookup = {}\n",
    "for d in daterange( date(2015, 1, 1), date(2017, 1, 1) ):\n",
    "    holidays = holidays_2015 if d.year == 2015 else holidays_2016\n",
    "    hday_lookup[d] = min( (abs(d- holiday).days for holiday in holidays) )"
   ]
  },
  {
   "cell_type": "markdown",
   "metadata": {
    "deletable": true,
    "editable": true
   },
   "source": [
    "Calculating the number of days to the nearest holiday for each row. \n",
    "\n",
    "To do this efficiently, first I group by date (since there are thousands of flights for each day), then lookup the date in the lookup table. "
   ]
  },
  {
   "cell_type": "code",
   "execution_count": 11,
   "metadata": {
    "collapsed": false,
    "deletable": true,
    "editable": true
   },
   "outputs": [],
   "source": [
    "grp_to_indices = flights.groupby(['Year', 'Month','Day']).indices\n",
    "for d in daterange( date(2015, 1, 1), date(2017, 1, 1)):\n",
    "    grp_label = (d.year, d.month, d.day)\n",
    "    if grp_label in grp_to_indices:\n",
    "        indices = grp_to_indices[grp_label]\n",
    "        flights.loc[indices, 'HDays'] = hday_lookup[ date(*grp_label) ]\n",
    "year_masks = flights.groupby('Year').indices"
   ]
  },
  {
   "cell_type": "markdown",
   "metadata": {
    "deletable": true,
    "editable": true
   },
   "source": [
    "Create training and test data -- with just the numeric data"
   ]
  },
  {
   "cell_type": "code",
   "execution_count": 12,
   "metadata": {
    "collapsed": false,
    "deletable": true,
    "editable": true
   },
   "outputs": [],
   "source": [
    "if DO_ITER_1:\n",
    "    X_cols = ['Month', 'Day', 'Dow', 'Hour', 'Distance', 'HDays']\n",
    "    X_train = flights.loc[ year_masks[2015], X_cols ]\n",
    "    X_test = flights.loc[ year_masks[2016], X_cols ]\n",
    "\n",
    "    Y_train = flights.loc[ year_masks[2015], 'Delayed' ]\n",
    "    Y_test = flights.loc[ year_masks[2016], 'Delayed' ]\n"
   ]
  },
  {
   "cell_type": "markdown",
   "metadata": {
    "deletable": true,
    "editable": true
   },
   "source": [
    "Running Logistic Regression model -- no encoding"
   ]
  },
  {
   "cell_type": "code",
   "execution_count": 16,
   "metadata": {
    "collapsed": false,
    "deletable": true,
    "editable": true
   },
   "outputs": [
    {
     "name": "stdout",
     "output_type": "stream",
     "text": [
      "Confusion Matrix\n",
      "       0      1\n",
      "0  24588  54262\n",
      "1   3672  16580\n",
      "\n",
      "precision = 0.23, recall = 0.82, F1 = 0.36, accuracy = 0.42\n",
      "\n"
     ]
    }
   ],
   "source": [
    "if DO_ITER_1:\n",
    "\n",
    "    clf_lr = linear_model.LogisticRegression(penalty='l2', class_weight='balanced')\n",
    "    clf_lr.fit(X_train, Y_train)\n",
    "\n",
    "    predictions = clf_lr.predict(X_test)\n",
    "\n",
    "    # evaluate predictions\n",
    "    cm = confusion_matrix(Y_test, predictions)\n",
    "    print('Confusion Matrix')\n",
    "    print(pd.DataFrame(cm))\n",
    "    lr_report= precision_recall_fscore_support(list(Y_test), list(predictions), \n",
    "                                               average='micro')\n",
    "    print(\"\\nprecision = %0.2f, recall = %0.2f, F1 = %0.2f, accuracy = %0.2f\\n\" % \\\n",
    "            (lr_report[0], lr_report[1], lr_report[2], accuracy_score(list(Y_test), list(predictions))))\n",
    "\n",
    "    %reset_selective -f clr_lr"
   ]
  },
  {
   "cell_type": "code",
   "execution_count": 17,
   "metadata": {
    "collapsed": false,
    "deletable": true,
    "editable": true
   },
   "outputs": [
    {
     "name": "stdout",
     "output_type": "stream",
     "text": [
      "Confusions Matrix\n",
      "       0     1\n",
      "0  69327  9523\n",
      "1  16454  3798\n",
      "\n",
      "precision = 0.29, recall = 0.19, F1 = 0.23, accuracy = 0.74\n",
      "\n"
     ]
    }
   ],
   "source": [
    "if DO_ITER_1:\n",
    "    from sklearn.ensemble import RandomForestClassifier\n",
    "    from sklearn.preprocessing import StandardScaler\n",
    "\n",
    "    clr_rf = RandomForestClassifier(n_estimators=50, n_jobs=-1)\n",
    "    clr_rf.fit(X_train, Y_train)\n",
    "\n",
    "    predictions = clr_rf.predict(X_test)\n",
    "\n",
    "    # evaluate predictions\n",
    "    cm = confusion_matrix(Y_test, predictions)\n",
    "    print('Confusions Matrix')\n",
    "    print(pd.DataFrame(cm))\n",
    "    svm_report = precision_recall_fscore_support(list(Y_test), list(predictions),\n",
    "                                                average='binary')\n",
    "    print(\"\\nprecision = %0.2f, recall = %0.2f, F1 = %0.2f, accuracy = %0.2f\\n\" % \\\n",
    "            (svm_report[0], svm_report[1], svm_report[2], \n",
    "             accuracy_score(list(Y_test), list(predictions))))\n",
    "    # reset since it takes a *huge* amount of memory\n",
    "    %reset_selective -f clr_rf"
   ]
  },
  {
   "cell_type": "markdown",
   "metadata": {},
   "source": [
    "Due to memory constraints, an online learning algorithm must be implemented. So, the features must be encoded into a sparse matrix, and then a ridge regression model will create the best model depedning on various training/testing splits."
   ]
  },
  {
   "cell_type": "code",
   "execution_count": 18,
   "metadata": {
    "collapsed": false,
    "deletable": true,
    "editable": true
   },
   "outputs": [],
   "source": [
    "if DO_ITER_2:\n",
    "    from sklearn.preprocessing import OneHotEncoder\n",
    "    Y_train = flights.loc[year_masks[2015], 'Delay'] >= 15\n",
    "    Y_test = flights.loc[year_masks[2016], 'Delay'] >= 15\n",
    "\n",
    "    cats = ['Month', 'Day', 'Dow', 'Hour', 'Carrier', 'Origin', 'Dest']\n",
    "    # convert String categories to numerical -- to be compatible w/ sklearn\n",
    "    flights['Carrier'] = pd.factorize(flights['Carrier'])[0]\n",
    "    flights['Origin'] = pd.factorize(flights['Origin'])[0]\n",
    "    flights['Dest'] = pd.factorize(flights['Dest'])[0]\n",
    "    \n",
    "    enc = OneHotEncoder()\n",
    "    X = enc.fit_transform( flights.loc[year_masks, cats] )\n",
    "    X_train"
   ]
  }
 ],
 "metadata": {
  "anaconda-cloud": {},
  "kernelspec": {
   "display_name": "Python [conda env:wikidemics]",
   "language": "python",
   "name": "conda-env-wikidemics-py"
  },
  "language_info": {
   "codemirror_mode": {
    "name": "ipython",
    "version": 3
   },
   "file_extension": ".py",
   "mimetype": "text/x-python",
   "name": "python",
   "nbconvert_exporter": "python",
   "pygments_lexer": "ipython3",
   "version": "3.5.2"
  }
 },
 "nbformat": 4,
 "nbformat_minor": 1
}
