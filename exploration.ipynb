{
 "cells": [
  {
   "cell_type": "markdown",
   "metadata": {},
   "source": [
    "# Predicting Flight Delays\n",
    "\n",
    "This project was inspired by [this hortonworks project](http://hortonworks.com/blog/data-science-apacheh-hadoop-predicting-airline-delays/)\n",
    "\n",
    "This notebook explores a subset of the data, and then goes into the actual predicting with sklearn. Apache Spark, and it's MlLib libarary, will be used to predict with the whole dataset."
   ]
  },
  {
   "cell_type": "code",
   "execution_count": 1,
   "metadata": {
    "collapsed": true,
    "deletable": true,
    "editable": true
   },
   "outputs": [],
   "source": [
    "import warnings\n",
    "warnings.filterwarnings('ignore')\n",
    "\n",
    "import glob\n",
    "import os\n",
    "import sys\n",
    "import random\n",
    "import numpy as np\n",
    "import pandas as pd\n",
    "import matplotlib.pyplot as plt\n",
    "import os\n",
    "\n",
    "from datetime import date\n",
    "from pprint import pprint\n",
    "from sklearn import linear_model, cross_validation, metrics, svm\n",
    "from sklearn.metrics import confusion_matrix, precision_recall_fscore_support, accuracy_score\n",
    "from sklearn.ensemble import RandomForestClassifier\n",
    "from sklearn.preprocessing import StandardScaler\n",
    "\n",
    "%matplotlib inline"
   ]
  },
  {
   "cell_type": "markdown",
   "metadata": {
    "deletable": true,
    "editable": true
   },
   "source": [
    "Read the monthly CSVs into a DataFrame"
   ]
  },
  {
   "cell_type": "code",
   "execution_count": 2,
   "metadata": {
    "collapsed": false,
    "deletable": true,
    "editable": true
   },
   "outputs": [],
   "source": [
    "#path = '/home/william/Projects/flight-delay/data'\n",
    "#allFiles = glob.glob(os.path.join(path, '2016*.csv'))\n",
    "# sort by date\n",
    "#allFiles.sort(key=lambda path: int(int(path.split('/')[-1][:-4])))\n",
    "# read in using generator expr for all CSV files\n",
    "#flights2016 = pd.concat( (pd.read_csv(f, usecols=range(29)) for f in allFiles) )\n",
    "base = '/home/william/Projects/flight-delay/data/merged'\n",
    "flights = pd.read_csv(os.path.join(base, '2015.csv'), usecols=range(29))\n",
    "flights = pd.concat([flights, \n",
    "                    pd.read_csv(os.path.join(base, '2016.csv'), usecols=range(29), nrows=1000000)])"
   ]
  },
  {
   "cell_type": "markdown",
   "metadata": {
    "deletable": true,
    "editable": true
   },
   "source": [
    "Drop excess columns, rename others"
   ]
  },
  {
   "cell_type": "code",
   "execution_count": 3,
   "metadata": {
    "collapsed": false,
    "deletable": true,
    "editable": true
   },
   "outputs": [],
   "source": [
    "renamed_cols = [\n",
    "        'Year', 'Month', 'Day', 'Dow','CarrierId', 'Carrier', 'TailNum', 'Origin', \n",
    "        'Dest', 'CRSDepTime', 'DepTime', 'DepDelay', 'TaxiOut', 'TaxiIn', 'CRSArrTime', \n",
    "        'ArrTime', 'ArrDelay', 'Cancelled', 'CancellationCode', 'Diverted', 'CRSElapsedTime', \n",
    "        'ActualElapsedTime', 'AirTime', 'Distance', 'CarrierDelay', 'WeatherDelay', \n",
    "        'NASDelay', 'SecurityDelay', 'LateAircraftDelay'\n",
    "]\n",
    "flights.columns = renamed_cols\n",
    "to_keep = ['Year', 'Month', 'Day', 'Dow', 'Carrier', 'Origin', 'Dest', \n",
    "           'DepDelay', 'CRSDepTime', 'Distance']\n",
    "    \n",
    "to_drop = list( set(renamed_cols) - set(to_keep))\n",
    "\n",
    "flights.drop(to_drop, axis=1, inplace=True)\n",
    "flights.dropna(subset=['DepDelay'], inplace=True)\n",
    "# reindex after dropping to keep consecuitive indices\n",
    "flights.index = range(len(flights))"
   ]
  },
  {
   "cell_type": "markdown",
   "metadata": {
    "deletable": true,
    "editable": true
   },
   "source": [
    "Graph of delays per month"
   ]
  },
  {
   "cell_type": "code",
   "execution_count": 4,
   "metadata": {
    "collapsed": false,
    "deletable": true,
    "editable": true
   },
   "outputs": [
    {
     "data": {
      "text/plain": [
       "<matplotlib.text.Text at 0x7f87641e9a90>"
      ]
     },
     "execution_count": 4,
     "metadata": {},
     "output_type": "execute_result"
    },
    {
     "data": {
      "image/png": "[encoded data removed]",
      "text/plain": [
       "<matplotlib.figure.Figure at 0x7f8761ecc5c0>"
      ]
     },
     "metadata": {},
     "output_type": "display_data"
    }
   ],
   "source": [
    "# Compute average number of delayed flights per month\n",
    "flights['Delayed'] = flights['DepDelay'] >= 15\n",
    "grouped = flights[['Delayed', 'Month']].groupby('Month').mean()\n",
    "\n",
    "# plot average delays by month\n",
    "grouped.plot(kind='bar')\n",
    "plt.title('Months with the most delays')"
   ]
  },
  {
   "cell_type": "code",
   "execution_count": 5,
   "metadata": {
    "collapsed": false,
    "deletable": true,
    "editable": true
   },
   "outputs": [
    {
     "data": {
      "text/plain": [
       "<matplotlib.text.Text at 0x7f876209f2e8>"
      ]
     },
     "execution_count": 5,
     "metadata": {},
     "output_type": "execute_result"
    },
    {
     "data": {
      "image/png": "[encoded data removed]",
      "text/plain": [
       "<matplotlib.figure.Figure at 0x7f8764090588>"
      ]
     },
     "metadata": {},
     "output_type": "display_data"
    }
   ],
   "source": [
    "flights['Hour'] = flights['CRSDepTime'].map(lambda x: x // 100)\n",
    "flights.drop('CRSDepTime', axis=1, inplace=True)\n",
    "grouped = flights[['Delayed', 'Hour']].groupby('Hour').mean()\n",
    "\n",
    "# plot average delays by hour of day\n",
    "grouped.plot(kind='bar')\n",
    "plt.title('Hours of the day with most delays')"
   ]
  },
  {
   "cell_type": "code",
   "execution_count": 6,
   "metadata": {
    "collapsed": false,
    "deletable": true,
    "editable": true
   },
   "outputs": [
    {
     "data": {
      "text/plain": [
       "<matplotlib.axes._subplots.AxesSubplot at 0x7f876382d748>"
      ]
     },
     "execution_count": 6,
     "metadata": {},
     "output_type": "execute_result"
    },
    {
     "data": {
      "image/png": "[encoded data removed]",
      "text/plain": [
       "<matplotlib.figure.Figure at 0x7f87638b53c8>"
      ]
     },
     "metadata": {},
     "output_type": "display_data"
    }
   ],
   "source": [
    "grped1 = flights[ ['Delayed', 'Carrier'] ].groupby('Carrier').filter(lambda x: len(x) > 10)\n",
    "grped1 = grped1.groupby('Carrier').mean()\n",
    "grped1 = grped1.sort(['Delayed'], ascending=False)\n",
    "\n",
    "grped1[:15].plot(kind='bar')"
   ]
  },
  {
   "cell_type": "markdown",
   "metadata": {
    "deletable": true,
    "editable": true
   },
   "source": [
    "New Year's Day, MLK Day, Easter, Memorial day, July 4th, Labor Day,\n",
    "Columbus Day, Veterans Day, Thanksgiving, Christmas"
   ]
  },
  {
   "cell_type": "code",
   "execution_count": 7,
   "metadata": {
    "collapsed": false,
    "deletable": true,
    "editable": true
   },
   "outputs": [],
   "source": [
    "%reset_selective -f grped1\n",
    "%reset_selective -f grped2\n",
    "%reset_selective -f carrier\n",
    "%reset_selective -f grouped\n",
    "%reset_selective -f df"
   ]
  },
  {
   "cell_type": "markdown",
   "metadata": {
    "deletable": true,
    "editable": true
   },
   "source": [
    "## Building a feature matrix\n"
   ]
  },
  {
   "cell_type": "code",
   "execution_count": 8,
   "metadata": {
    "collapsed": false,
    "deletable": true,
    "editable": true
   },
   "outputs": [],
   "source": [
    "renamed_cols = ['Year', 'Month', 'Day', 'Dow', 'Carrier', 'Origin', \n",
    "                'Dest', 'Delay', 'Distance', 'Delayed', 'Hour']\n",
    "flights.columns = renamed_cols\n",
    "# convert the numeric columns from object dtype\n",
    "numeric_cols = ['Year', 'Month', 'Day', 'Dow', 'Delay', 'Hour', 'Distance']\n",
    "for col in numeric_cols:\n",
    "    flights[col] = pd.to_numeric( flights[col] )"
   ]
  },
  {
   "cell_type": "markdown",
   "metadata": {},
   "source": [
    "Creating Nearest holiday lookup table for 2015 and 2016\n",
    "\n",
    "New Year's Day, MLK Day, Easter, Memorial day, July 4th, Labor Day, Veteran's Day, Columbus Day, Veteran's Day, Thanksgiving, Christmas "
   ]
  },
  {
   "cell_type": "code",
   "execution_count": 9,
   "metadata": {
    "collapsed": false
   },
   "outputs": [],
   "source": [
    "from datetime import timedelta, date\n",
    "\n",
    "def daterange(start_date, end_date):\n",
    "    for n in range(int ((end_date - start_date).days)):\n",
    "        yield start_date + timedelta(n)\n",
    "        \n",
    "holidays_2015 = [\n",
    "    date(2015, 1, 1), date(2015, 1, 19), date(2015, 4, 5), date(2015, 5, 25),\n",
    "    date(2015, 7, 4), date(2015, 9, 7), date(2015, 10, 12), date(2015, 11, 11),\n",
    "    date(2015, 11, 26), date(2015, 12, 25)\n",
    "]\n",
    "holidays_2016 = [\n",
    "    date(2016, 1, 1), date(2016, 1, 18), date(2016, 3, 27), date(2016, 5, 30),\n",
    "    date(2016, 7, 4),  date(2016, 9, 5), date(2016, 10, 10), date(2016, 11, 11),\n",
    "    date(2016, 11, 24), date(2016, 12, 25)\n",
    "]\n",
    "\n",
    "hday_lookup = {}\n",
    "for d in daterange( date(2015, 1, 1), date(2017, 1, 1) ):\n",
    "    holidays = holidays_2015 if d.year == 2015 else holidays_2016\n",
    "    hday_lookup[d] = min( (abs(d- holiday).days for holiday in holidays) )"
   ]
  },
  {
   "cell_type": "markdown",
   "metadata": {},
   "source": [
    "Calculating the number of days to the nearest holiday for each row. \n",
    "\n",
    "To do this efficiently, first I group by date (since there are thousands of flights for each day), then lookup the date in the lookup table. "
   ]
  },
  {
   "cell_type": "code",
   "execution_count": 10,
   "metadata": {
    "collapsed": false
   },
   "outputs": [],
   "source": [
    "grp_to_indices = flights.groupby(['Year', 'Month','Day']).indices\n",
    "for d in daterange( date(2015, 1, 1), date(2017, 1, 1)):\n",
    "    grp_label = (d.year, d.month, d.day)\n",
    "    if grp_label in grp_to_indices:\n",
    "        indices = grp_to_indices[grp_label]\n",
    "        flights.loc[indices, 'HDay'] = hday_lookup[ date(*grp_label) ]"
   ]
  },
  {
   "cell_type": "code",
   "execution_count": 11,
   "metadata": {
    "collapsed": false
   },
   "outputs": [
    {
     "data": {
      "text/html": [
       "<div>\n",
       "<table border=\"1\" class=\"dataframe\">\n",
       "  <thead>\n",
       "    <tr style=\"text-align: right;\">\n",
       "      <th></th>\n",
       "      <th>Year</th>\n",
       "      <th>Month</th>\n",
       "      <th>Day</th>\n",
       "      <th>Dow</th>\n",
       "      <th>Carrier</th>\n",
       "      <th>Origin</th>\n",
       "      <th>Dest</th>\n",
       "      <th>Delay</th>\n",
       "      <th>Distance</th>\n",
       "      <th>Delayed</th>\n",
       "      <th>Hour</th>\n",
       "      <th>HDay</th>\n",
       "    </tr>\n",
       "  </thead>\n",
       "  <tbody>\n",
       "    <tr>\n",
       "      <th>0</th>\n",
       "      <td>2015</td>\n",
       "      <td>1</td>\n",
       "      <td>22</td>\n",
       "      <td>4</td>\n",
       "      <td>DL</td>\n",
       "      <td>LGA</td>\n",
       "      <td>MCO</td>\n",
       "      <td>-5.0</td>\n",
       "      <td>950.0</td>\n",
       "      <td>False</td>\n",
       "      <td>20</td>\n",
       "      <td>3.0</td>\n",
       "    </tr>\n",
       "    <tr>\n",
       "      <th>1</th>\n",
       "      <td>2015</td>\n",
       "      <td>1</td>\n",
       "      <td>22</td>\n",
       "      <td>4</td>\n",
       "      <td>DL</td>\n",
       "      <td>ATL</td>\n",
       "      <td>LGA</td>\n",
       "      <td>26.0</td>\n",
       "      <td>762.0</td>\n",
       "      <td>True</td>\n",
       "      <td>12</td>\n",
       "      <td>3.0</td>\n",
       "    </tr>\n",
       "    <tr>\n",
       "      <th>2</th>\n",
       "      <td>2015</td>\n",
       "      <td>1</td>\n",
       "      <td>22</td>\n",
       "      <td>4</td>\n",
       "      <td>DL</td>\n",
       "      <td>SAN</td>\n",
       "      <td>DTW</td>\n",
       "      <td>-6.0</td>\n",
       "      <td>1956.0</td>\n",
       "      <td>False</td>\n",
       "      <td>11</td>\n",
       "      <td>3.0</td>\n",
       "    </tr>\n",
       "    <tr>\n",
       "      <th>3</th>\n",
       "      <td>2015</td>\n",
       "      <td>1</td>\n",
       "      <td>22</td>\n",
       "      <td>4</td>\n",
       "      <td>DL</td>\n",
       "      <td>ATL</td>\n",
       "      <td>AGS</td>\n",
       "      <td>-1.0</td>\n",
       "      <td>143.0</td>\n",
       "      <td>False</td>\n",
       "      <td>19</td>\n",
       "      <td>3.0</td>\n",
       "    </tr>\n",
       "    <tr>\n",
       "      <th>4</th>\n",
       "      <td>2015</td>\n",
       "      <td>1</td>\n",
       "      <td>22</td>\n",
       "      <td>4</td>\n",
       "      <td>DL</td>\n",
       "      <td>ATL</td>\n",
       "      <td>IAH</td>\n",
       "      <td>-8.0</td>\n",
       "      <td>689.0</td>\n",
       "      <td>False</td>\n",
       "      <td>13</td>\n",
       "      <td>3.0</td>\n",
       "    </tr>\n",
       "  </tbody>\n",
       "</table>\n",
       "</div>"
      ],
      "text/plain": [
       "   Year  Month  Day  Dow Carrier Origin Dest  Delay  Distance Delayed  Hour  \\\n",
       "0  2015      1   22    4      DL    LGA  MCO   -5.0     950.0   False    20   \n",
       "1  2015      1   22    4      DL    ATL  LGA   26.0     762.0    True    12   \n",
       "2  2015      1   22    4      DL    SAN  DTW   -6.0    1956.0   False    11   \n",
       "3  2015      1   22    4      DL    ATL  AGS   -1.0     143.0   False    19   \n",
       "4  2015      1   22    4      DL    ATL  IAH   -8.0     689.0   False    13   \n",
       "\n",
       "   HDay  \n",
       "0   3.0  \n",
       "1   3.0  \n",
       "2   3.0  \n",
       "3   3.0  \n",
       "4   3.0  "
      ]
     },
     "execution_count": 11,
     "metadata": {},
     "output_type": "execute_result"
    }
   ],
   "source": [
    "flights[:5]"
   ]
  },
  {
   "cell_type": "code",
   "execution_count": null,
   "metadata": {
    "collapsed": true
   },
   "outputs": [],
   "source": []
  }
 ],
 "metadata": {
  "anaconda-cloud": {},
  "kernelspec": {
   "display_name": "Python [conda env:wikidemics]",
   "language": "python",
   "name": "conda-env-wikidemics-py"
  },
  "language_info": {
   "codemirror_mode": {
    "name": "ipython",
    "version": 3
   },
   "file_extension": ".py",
   "mimetype": "text/x-python",
   "name": "python",
   "nbconvert_exporter": "python",
   "pygments_lexer": "ipython3",
   "version": "3.5.2"
  }
 },
 "nbformat": 4,
 "nbformat_minor": 1
}
